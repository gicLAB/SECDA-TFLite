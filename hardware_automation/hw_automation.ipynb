{
 "cells": [
  {
   "cell_type": "code",
   "execution_count": 1,
   "metadata": {},
   "outputs": [],
   "source": [
    "import os\n",
    "from string import Template\n",
    "import json\n",
    "\n",
    "vivado_path = \"/home/jude/Xilinx_2019.2/Vivado/2019.2/bin/\"\n",
    "\n",
    "# open c++ header file and parse all the #define and their values into a dictionary\n",
    "def parse_defines(file_name=\"test.h\"):\n",
    "    with open(file_name) as f:\n",
    "        defines = {}\n",
    "        for line in f:\n",
    "            if line.startswith(\"#define\"):\n",
    "                tokens = line.split()\n",
    "                if \"BITS\" in tokens[1]:\n",
    "                    continue\n",
    "                tokens[1] = tokens[1].replace(\"XVM_INT8_V3_0_SLV0_ADDR_\", \"\")\n",
    "                tokens[1] = tokens[1].replace(\"_DATA\", \"\")\n",
    "                defines[tokens[1]] = int(tokens[2], 16)\n",
    "        # print(defines)\n",
    "        print(f\"rm = {defines}\")\n",
    "\n",
    "\n",
    "# print bitmap for an integer , put space between every 8 bits\n",
    "def print_bitmap(num):\n",
    "    s = bin(num)[2:]\n",
    "    s = s.zfill(32)\n",
    "    for i in range(0, len(s), 8):\n",
    "        print(s[i : i + 8], end=\" \")\n",
    "    print()\n",
    "\n",
    "\n",
    "def load_config(config_file):\n",
    "    with open(config_file) as f:\n",
    "        config = json.load(f)\n",
    "    return config\n",
    "\n",
    "\n",
    "class mt(Template):\n",
    "    delimiter = \"&\"\n",
    "    idpattern = r\"[a-z][_a-z0-9]*\"\n",
    "\n",
    "class hardware_exp:\n",
    "    def __init__(\n",
    "        self,\n",
    "        config,\n",
    "    ):\n",
    "        self.acc_name = config[\"acc_name\"]\n",
    "        self.acc_version = config[\"acc_version\"]\n",
    "        self.acc_sub_version = config[\"acc_sub_version\"]\n",
    "        self.acc_test = config[\"acc_test\"]\n",
    "        self.acc_test_id = (\"_\" + self.acc_test_id) if self.acc_test else \"\"\n",
    "        self.acc_test_desc = config[\"acc_test_desc\"]\n",
    "        self.acc_link_folder = config[\"acc_link_folder\"]\n",
    "        self.acc_part = \"xc7z020clg400-1\"\n",
    "        self.hlx_tcl_script = config[\"hlx_tcl_script\"]\n",
    "        self.top = config[\"top\"]\n",
    "        self.pynq_dir = config[\"pynq_dir\"]\n",
    "        self.board_script = config[\"board_script\"]\n",
    "        self.bitstream = config[\"acc_name\"]+ \"_\"+  str(config[\"acc_version\"])+ \"_\" + str(config[\"acc_sub_version\"])\n",
    "        \n",
    "        self.vp = vivado_path\n",
    "        self.acc_tag = (\n",
    "            str(self.acc_name)\n",
    "            + \"_\"\n",
    "            + str(self.acc_version)\n",
    "            + \"_\"\n",
    "            + str(self.acc_sub_version)\n",
    "            + str(self.acc_test_id)\n",
    "        )\n",
    "\n",
    "    def generate_hls_tcl(self, output_dir):\n",
    "        s = \"\"\n",
    "        s += \"open_project -reset \" + self.acc_tag + \"\\n\"\n",
    "        s += \"set_top \" + self.top + \"\\n\"\n",
    "        for file in os.listdir(self.acc_link_folder):\n",
    "            if file.endswith(\".cc\") or file.endswith(\".h\"):\n",
    "                s += \"add_files \" + \"src/\" + file + ' -cflags \"-D__SYNTHESIS__\"\\n'\n",
    "        s += 'open_solution \"' + self.acc_tag + '\"\\n'\n",
    "        s += \"set_part \" + self.acc_part + \"\\n\"\n",
    "        s += \"create_clock -period \" + \"5\" + \" -name default\\n\"\n",
    "        s += \"config_export -format ip_catalog -rtl verilog -taxonomy /s -vendor xilinx\\n\"\n",
    "        s += \"csynth_design\\n\"\n",
    "        s += \"export_design -format ip_catalog\\n\"\n",
    "        s += \"exit\\n\"\n",
    "        with open(f\"{output_dir}/hls_script.tcl\", \"w\") as f:\n",
    "            f.write(s)\n",
    "\n",
    "    def generate_hlx_tcl(self, output_dir):\n",
    "        with open((self.hlx_tcl_script)) as f:\n",
    "            tcl_script = str(mt(f.read()).substitute({\"top\": self.top}))\n",
    "        with open(f\"{output_dir}/hlx_script.tcl\", \"w\") as f:\n",
    "            f.write(tcl_script)\n",
    "\n",
    "    def create_run_script(self, output_path):\n",
    "        output_dir = output_path + \"/\" + self.acc_tag\n",
    "        run_dict = {\n",
    "            \"acc_link_folder\": self.acc_link_folder,\n",
    "            \"acc_tag\": self.acc_tag,\n",
    "            \"vp\": self.vp,\n",
    "            \"bitstream\": self.bitstream,\n",
    "            \"pynq_dir\": self.pynq_dir,\n",
    "            \"board_user\": \"xilinx\",\n",
    "            \"board_hostname\": \"jharis.ddns.net\",\n",
    "            \"board_port\": \"2202\",\n",
    "            \"board_script\": self.board_script,\n",
    "        }\n",
    "        with open(\"run_template.sh\") as f:\n",
    "            run_script = str(mt(f.read()).substitute(run_dict))\n",
    "\n",
    "        with open(f\"{output_dir}/run.sh\", \"w\") as f:\n",
    "            f.write(run_script)\n",
    "        os.system(f\"chmod +x {output_dir}/run.sh\")\n",
    "\n",
    "    def create_project(self, output_path):\n",
    "        output_dir = output_path + \"/\" + self.acc_tag\n",
    "        output_acc_src_dir = output_dir + \"/src\"\n",
    "        os.system(f\"mkdir -p {output_dir}\")\n",
    "        os.system(f\"mkdir -p {output_acc_src_dir}\")\n",
    "        self.generate_hls_tcl(output_dir)\n",
    "        self.generate_hlx_tcl(output_dir)\n",
    "        self.create_run_script(output_path)"
   ]
  },
  {
   "cell_type": "code",
   "execution_count": null,
   "metadata": {},
   "outputs": [],
   "source": [
    "# VMv2_0\n",
    "h1 = hardware_exp(load_config(\"./configs/VMv2_0.json\"))\n",
    "h1.create_project(\"./generated\")\n"
   ]
  },
  {
   "cell_type": "code",
   "execution_count": null,
   "metadata": {},
   "outputs": [],
   "source": [
    "# VMv3_0\n",
    "h3 = hardware_exp(load_config(\"./configs/VMv3_0.json\"))\n",
    "h3.create_project(\"./generated\")"
   ]
  },
  {
   "cell_type": "code",
   "execution_count": 4,
   "metadata": {},
   "outputs": [],
   "source": [
    "# MM2IMv1_0\n",
    "h2 = hardware_exp(load_config(\"./configs/MM2IMv1_0.json\"))\n",
    "h2.create_project(\"./generated\")"
   ]
  },
  {
   "cell_type": "code",
   "execution_count": null,
   "metadata": {},
   "outputs": [],
   "source": [
    "# MM2IMv2_0\n",
    "h2 = hardware_exp(load_config(\"./configs/MM2IMv2_0.json\"))\n",
    "h2.create_project(\"./generated\")"
   ]
  },
  {
   "cell_type": "code",
   "execution_count": 3,
   "metadata": {},
   "outputs": [],
   "source": [
    "# MM2IMv2_1\n",
    "h2 = hardware_exp(load_config(\"./configs/MM2IMv2_1.json\"))\n",
    "h2.create_project(\"./generated\")"
   ]
  },
  {
   "cell_type": "code",
   "execution_count": 3,
   "metadata": {},
   "outputs": [],
   "source": [
    "# MM2IMv2_2\n",
    "h2 = hardware_exp(load_config(\"./configs/MM2IMv2_2.json\"))\n",
    "h2.create_project(\"./generated\")"
   ]
  },
  {
   "cell_type": "code",
   "execution_count": 4,
   "metadata": {},
   "outputs": [],
   "source": [
    "# ADDv1_0\n",
    "h2 = hardware_exp(load_config(\"./configs/ADDv1_0.json\"))\n",
    "h2.create_project(\"./generated\")"
   ]
  },
  {
   "cell_type": "code",
   "execution_count": null,
   "metadata": {},
   "outputs": [],
   "source": []
  }
 ],
 "metadata": {
  "kernelspec": {
   "display_name": "Python 3",
   "language": "python",
   "name": "python3"
  },
  "language_info": {
   "codemirror_mode": {
    "name": "ipython",
    "version": 3
   },
   "file_extension": ".py",
   "mimetype": "text/x-python",
   "name": "python",
   "nbconvert_exporter": "python",
   "pygments_lexer": "ipython3",
   "version": "3.10.12"
  }
 },
 "nbformat": 4,
 "nbformat_minor": 2
}
