{
 "cells": [
  {
   "cell_type": "code",
   "execution_count": 2,
   "metadata": {},
   "outputs": [],
   "source": [
    "# This takes a template ccommands to generate the experiement binaries and generates a script which can compile the binary\n",
    "import os\n",
    "import string\n",
    "\n",
    "def gen_script(template_script, script_type, params,output_path):\n",
    "  app_short = params[\"app_short\"]\n",
    "  trial_name = params[\"trial_name\"]\n",
    "  script_name = f\"{script_type}_{app_short}_{trial_name}.sh\"\n",
    "  filename = f\"{output_path}/{script_name}\"\n",
    "  with open((template_script)) as f:\n",
    "      s = str(string.Template(f.read()).substitute(params))\n",
    "  \n",
    "  os.makedirs(os.path.dirname(filename), exist_ok=True)\n",
    "  with open(filename, \"w\") as f:\n",
    "      f.write(s)\n",
    "  os.system(\"chmod +x {}\".format(filename))\n"
   ]
  },
  {
   "cell_type": "code",
   "execution_count": 3,
   "metadata": {},
   "outputs": [],
   "source": [
    "script = \"./template_scripts/exp.sh\"\n",
    "model_dir = \"/home/xilinx/Workspace/SECDA-TFLite/models\"\n",
    "input_dir = \"/home/xilinx/Workspace/SECDA-TFLite/inputs\"\n",
    "model= \"mobilenetv1.tflite\"\n",
    "input = \"grace_hopper.bmp\"\n",
    "labels = \"labels2.txt\"\n",
    "app_short = \"eval_vm\"\n",
    "trial_name = \"baseline\"\n",
    "bin_name =  app_short + \"_\" + trial_name\n",
    "run_cmd= f\"./{bin_name} -m{model_dir}/{model} -i{input_dir}/{input} -l{input_dir}/{labels}  -t 1 --use_secda_vm_delegate=true\"\n",
    "hw_path = \"/home/jude/Workspace/SECDA-TFLite/hardware_automation/generated/vm_2_0/generated_files/\"\n",
    "acc_tag = \"vm_2_0\"\n",
    "params = {\n",
    "  \"path_to_tf\" : \"/home/jude/Workspace/SECDA-TFLite/tensorflow\",\n",
    "  \"del_path\" : \"tensorflow/lite/delegates/utils/secda_delegates/secda_vm_delegate\",\n",
    "  \"bazel_name\" : \"eval_model_plus_secda_vm_delegate\",\n",
    "  \"app_short\" : app_short,\n",
    "  \"trial_name\" : trial_name,\n",
    "  \"output_path\" : f\"output/{bin_name}\",\n",
    "  \"pynq_dir\" : \"/home/xilinx/Workspace/SECDA-TFLite/experiments\",\n",
    "  \"exp_folder\" : bin_name,\n",
    "  \"board_user\" : \"xilinx\",\n",
    "  \"board_hostname\" : \"jharis.ddns.net\",\n",
    "  \"board_port\" : \"2202\",\n",
    "  \"hw_path\" : hw_path,\n",
    "  \"hw_name\" : \"vm_2_0\",\n",
    "  \"run_cmd\" : run_cmd,\n",
    "  \"acc_tag\" : acc_tag,\n",
    "}\n",
    "\n",
    "\n",
    "gen_script(script, \"exp\", params, \"generated\")\n"
   ]
  },
  {
   "cell_type": "code",
   "execution_count": null,
   "metadata": {},
   "outputs": [],
   "source": []
  },
  {
   "cell_type": "code",
   "execution_count": null,
   "metadata": {},
   "outputs": [],
   "source": []
  }
 ],
 "metadata": {
  "kernelspec": {
   "display_name": "Python 3",
   "language": "python",
   "name": "python3"
  },
  "language_info": {
   "codemirror_mode": {
    "name": "ipython",
    "version": 3
   },
   "file_extension": ".py",
   "mimetype": "text/x-python",
   "name": "python",
   "nbconvert_exporter": "python",
   "pygments_lexer": "ipython3",
   "version": "3.10.12"
  }
 },
 "nbformat": 4,
 "nbformat_minor": 2
}
