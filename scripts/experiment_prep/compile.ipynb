{
 "cells": [
  {
   "cell_type": "code",
   "execution_count": 5,
   "metadata": {},
   "outputs": [],
   "source": [
    "# This takes a template ccommands to generate the experiement binaries and generates a script which can compile the binary\n",
    "import os\n",
    "import string\n",
    "from string import Template\n",
    "import json\n",
    "\n",
    "class mt(Template):\n",
    "    delimiter = '^'\n",
    "    idpattern = r'[a-z][_a-z0-9]*'\n",
    "\n",
    "def load_config(config_file):\n",
    "    with open(config_file) as f:\n",
    "        config = json.load(f)\n",
    "    return config\n",
    "\n",
    "def gen_script(template_script, script_type, params,output_path):\n",
    "  app_short = params[\"app_short\"]\n",
    "  trial_name = params[\"trial_name\"]\n",
    "  hw_name = params[\"hw_name\"]\n",
    "  script_name = f\"{script_type}_{app_short}_{trial_name}_{hw_name}.sh\"\n",
    "  filename = f\"{output_path}/{script_name}\"\n",
    "  with open((template_script)) as f:\n",
    "      s = str(mt(f.read()).substitute(params))\n",
    "  \n",
    "  os.makedirs(os.path.dirname(filename), exist_ok=True)\n",
    "  with open(filename, \"w\") as f:\n",
    "      f.write(s)\n",
    "  os.system(\"chmod +x {}\".format(filename))\n"
   ]
  },
  {
   "cell_type": "code",
   "execution_count": 7,
   "metadata": {},
   "outputs": [],
   "source": [
    "script = \"./template_scripts/exp.sh\"\n",
    "gen_script(script, \"exp\", load_config(\"./configs/em_vm_2_0.json\"), \"generated\")\n"
   ]
  },
  {
   "cell_type": "code",
   "execution_count": 8,
   "metadata": {},
   "outputs": [],
   "source": [
    "script = \"./template_scripts/exp.sh\"\n",
    "gen_script(script, \"exp\", load_config(\"./configs/bm_mm2im.json\"), \"generated\")"
   ]
  },
  {
   "cell_type": "code",
   "execution_count": null,
   "metadata": {},
   "outputs": [],
   "source": []
  }
 ],
 "metadata": {
  "kernelspec": {
   "display_name": "Python 3",
   "language": "python",
   "name": "python3"
  },
  "language_info": {
   "codemirror_mode": {
    "name": "ipython",
    "version": 3
   },
   "file_extension": ".py",
   "mimetype": "text/x-python",
   "name": "python",
   "nbconvert_exporter": "python",
   "pygments_lexer": "ipython3",
   "version": "3.9.16"
  }
 },
 "nbformat": 4,
 "nbformat_minor": 2
}
