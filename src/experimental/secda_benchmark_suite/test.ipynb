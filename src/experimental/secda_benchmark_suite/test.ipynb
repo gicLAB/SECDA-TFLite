{
 "cells": [
  {
   "cell_type": "code",
   "execution_count": 1,
   "metadata": {},
   "outputs": [
    {
     "name": "stdout",
     "output_type": "stream",
     "text": [
      "Loading Board Config\n"
     ]
    },
    {
     "data": {
      "application/vnd.jupyter.widget-view+json": {
       "model_id": "b5c72c49907343da8d086e50bed71041",
       "version_major": 2,
       "version_minor": 0
      },
      "text/plain": [
       "Checkbox(value=False, description='Skip running experiment')"
      ]
     },
     "metadata": {},
     "output_type": "display_data"
    },
    {
     "data": {
      "application/vnd.jupyter.widget-view+json": {
       "model_id": "50aaae0187854a7c9d80ba5c8271a63c",
       "version_major": 2,
       "version_minor": 0
      },
      "text/plain": [
       "Checkbox(value=False, description='Generate binaries')"
      ]
     },
     "metadata": {},
     "output_type": "display_data"
    },
    {
     "data": {
      "application/vnd.jupyter.widget-view+json": {
       "model_id": "6a260d8dcf3746f5bde69f83ff4ea273",
       "version_major": 2,
       "version_minor": 0
      },
      "text/plain": [
       "Checkbox(value=False, description='Skip inference difference checks')"
      ]
     },
     "metadata": {},
     "output_type": "display_data"
    },
    {
     "data": {
      "application/vnd.jupyter.widget-view+json": {
       "model_id": "5156afbde7c64bad8f26c0837ad2acce",
       "version_major": 2,
       "version_minor": 0
      },
      "text/plain": [
       "Checkbox(value=False, description='Power collection')"
      ]
     },
     "metadata": {},
     "output_type": "display_data"
    },
    {
     "data": {
      "application/vnd.jupyter.widget-view+json": {
       "model_id": "0cd060ef9ba949bc91d20f0168c9651c",
       "version_major": 2,
       "version_minor": 0
      },
      "text/plain": [
       "Checkbox(value=False, description='Test run')"
      ]
     },
     "metadata": {},
     "output_type": "display_data"
    },
    {
     "data": {
      "application/vnd.jupyter.widget-view+json": {
       "model_id": "69a28b985ea04e32bd9a16379a4fc02f",
       "version_major": 2,
       "version_minor": 0
      },
      "text/plain": [
       "Checkbox(value=False, description='Initialize the board')"
      ]
     },
     "metadata": {},
     "output_type": "display_data"
    },
    {
     "data": {
      "application/vnd.jupyter.widget-view+json": {
       "model_id": "49bad00515dc4723805c6fc08bff31e8",
       "version_major": 2,
       "version_minor": 0
      },
      "text/plain": [
       "Text(value='', description='Name of the experiment')"
      ]
     },
     "metadata": {},
     "output_type": "display_data"
    }
   ],
   "source": [
    "# SECDA Benchmark Suite\n",
    "# This notebook replicates the functionality of the secda_benchmark_suite.sh script\n",
    "\n",
    "import os\n",
    "import subprocess\n",
    "import json\n",
    "from datetime import datetime\n",
    "import signal\n",
    "import ipywidgets as widgets\n",
    "from IPython.display import display\n",
    "\n",
    "# Load conda_path from config.json\n",
    "with open('../../config.json') as config_file:\n",
    "    config = json.load(config_file)\n",
    "\n",
    "conda_path = config['conda_path']\n",
    "\n",
    "# Run configure_benchmark.py to generate board_config.json\n",
    "subprocess.run(\"python3 scripts/configure_benchmark.py -c 1\", shell=True)\n",
    "\n",
    "# Load board configurations from board_config.json\n",
    "with open('./generated/board_config.json') as board_config_file:\n",
    "    board_config = json.load(board_config_file)\n",
    "\n",
    "board = board_config['board']\n",
    "board_user = board_config['board_user']\n",
    "board_hostname = board_config['board_hostname']\n",
    "board_dir = board_config['board_dir']\n",
    "board_port = board_config['board_port']\n",
    "bench_dir = os.path.join(board_dir, 'benchmark_suite')\n",
    "\n",
    "# Define helper functions\n",
    "def help_function():\n",
    "    print(\"\"\"\n",
    "    Usage: Run the cells in the notebook sequentially to replicate the functionality of the secda_benchmark_suite.sh script.\n",
    "    \"\"\")\n",
    "\n",
    "def create_dir():\n",
    "    subprocess.run(f\"ssh -o LogLevel=QUIET -t -p {board_port} {board_user}@{board_hostname} 'mkdir -p {bench_dir} && mkdir -p {board_dir}/bitstreams && mkdir -p {bench_dir}/bins && mkdir -p {bench_dir}/models'\", shell=True)\n",
    "    subprocess.run(f\"rsync -r -avz -e 'ssh -p {board_port}' ./model_gen/models {board_user}@{board_hostname}:{bench_dir}/\", shell=True)\n",
    "    subprocess.run(f\"rsync -r -avz -e 'ssh -p {board_port}' ./bitstreams/{board}/ {board_user}@{board_hostname}:{board_dir}/bitstreams/\", shell=True)\n",
    "    subprocess.run(f\"rsync -q -r -avz -e 'ssh -p {board_port}' ./scripts/fpga_scripts/ {board_user}@{board_hostname}:{board_dir}/scripts/\", shell=True)\n",
    "    print(\"Initialization Done\")\n",
    "\n",
    "def ctrl_c_handler(signum, frame):\n",
    "    print(\"Exiting\")\n",
    "    exit(1)\n",
    "\n",
    "signal.signal(signal.SIGINT, ctrl_c_handler)\n",
    "\n",
    "# Define variables\n",
    "skip_bench = 0\n",
    "bin_gen = 0\n",
    "skip_inf_diff = 0\n",
    "collect_power = 0\n",
    "test_run = 0\n",
    "init = 0\n",
    "name = \"\"\n",
    "now = datetime.now().strftime(\"%Y_%m_%d_%H_%M\")\n",
    "\n",
    "# Configuration widgets\n",
    "skip_bench_widget = widgets.Checkbox(value=False, description='Skip running experiment')\n",
    "bin_gen_widget = widgets.Checkbox(value=False, description='Generate binaries')\n",
    "skip_inf_diff_widget = widgets.Checkbox(value=False, description='Skip inference difference checks')\n",
    "collect_power_widget = widgets.Checkbox(value=False, description='Power collection')\n",
    "test_run_widget = widgets.Checkbox(value=False, description='Test run')\n",
    "init_widget = widgets.Checkbox(value=False, description='Initialize the board')\n",
    "name_widget = widgets.Text(value='', description='Name of the experiment')\n",
    "\n",
    "display(skip_bench_widget, bin_gen_widget, skip_inf_diff_widget, collect_power_widget, test_run_widget, init_widget, name_widget)\n"
   ]
  },
  {
   "cell_type": "code",
   "execution_count": null,
   "metadata": {},
   "outputs": [
    {
     "name": "stdout",
     "output_type": "stream",
     "text": [
      "-----------------------------------------------------------\n",
      "-- SECDA-TFLite Benchmark Suite --\n",
      "-----------------------------------------------------------\n",
      "Configurations\n",
      "--------------\n",
      "Board: Z1\n",
      "Board User: xilinx\n",
      "Board Hostname: jharis.ddns.net\n",
      "Board Benchmark Dir: /home/xilinx/Workspace/secda_tflite/benchmark_suite\n",
      "Skip Bench: False\n",
      "Bin Gen: True\n",
      "Skip Inf Diff: False\n",
      "Collect Power: False\n",
      "Test Run: True\n",
      "Name: run_2025_02_17_00_59\n",
      "-----------------------------------------------------------\n",
      "-----------------------------------------------------------\n",
      "Initializing SECDA-TFLite Benchmark Suite\n",
      "-----------------------------------------------------------\n",
      "Clearing cache\n",
      "-----------------------------------------------------------\n",
      "-----------------------------------------------------------\n",
      "Configuring Benchmark\n",
      "-----------------------------------------------------------\n",
      "Creating Experiment\n",
      "Generating benchmark\n",
      "Generating Binaries\n",
      "-----------------------------------------------------------\n",
      "Generating Binaries\n"
     ]
    },
    {
     "ename": "FileNotFoundError",
     "evalue": "[Errno 2] No such file or directory: 'pwd && source ./generated/gen_bins.sh'",
     "output_type": "error",
     "traceback": [
      "\u001b[0;31m---------------------------------------------------------------------------\u001b[0m",
      "\u001b[0;31mFileNotFoundError\u001b[0m                         Traceback (most recent call last)",
      "Cell \u001b[0;32mIn[6], line 46\u001b[0m\n\u001b[1;32m     44\u001b[0m \u001b[38;5;28mprint\u001b[39m(\u001b[38;5;124m\"\u001b[39m\u001b[38;5;124m-----------------------------------------------------------\u001b[39m\u001b[38;5;124m\"\u001b[39m)\n\u001b[1;32m     45\u001b[0m \u001b[38;5;28mprint\u001b[39m(\u001b[38;5;124m\"\u001b[39m\u001b[38;5;124mGenerating Binaries\u001b[39m\u001b[38;5;124m\"\u001b[39m)\n\u001b[0;32m---> 46\u001b[0m \u001b[43msubprocess\u001b[49m\u001b[38;5;241;43m.\u001b[39;49m\u001b[43mrun\u001b[49m\u001b[43m(\u001b[49m\u001b[38;5;124;43m\"\u001b[39;49m\u001b[38;5;124;43mpwd && source ./generated/gen_bins.sh\u001b[39;49m\u001b[38;5;124;43m\"\u001b[39;49m\u001b[43m,\u001b[49m\u001b[43m \u001b[49m\u001b[43mshell\u001b[49m\u001b[38;5;241;43m=\u001b[39;49m\u001b[38;5;28;43;01mFalse\u001b[39;49;00m\u001b[43m)\u001b[49m\n\u001b[1;32m     47\u001b[0m \u001b[38;5;28mprint\u001b[39m(\u001b[38;5;124m\"\u001b[39m\u001b[38;5;124m-----------------------------------------------------------\u001b[39m\u001b[38;5;124m\"\u001b[39m)\n",
      "File \u001b[0;32m~/miniconda3/envs/tf/lib/python3.9/subprocess.py:505\u001b[0m, in \u001b[0;36mrun\u001b[0;34m(input, capture_output, timeout, check, *popenargs, **kwargs)\u001b[0m\n\u001b[1;32m    502\u001b[0m     kwargs[\u001b[38;5;124m'\u001b[39m\u001b[38;5;124mstdout\u001b[39m\u001b[38;5;124m'\u001b[39m] \u001b[38;5;241m=\u001b[39m PIPE\n\u001b[1;32m    503\u001b[0m     kwargs[\u001b[38;5;124m'\u001b[39m\u001b[38;5;124mstderr\u001b[39m\u001b[38;5;124m'\u001b[39m] \u001b[38;5;241m=\u001b[39m PIPE\n\u001b[0;32m--> 505\u001b[0m \u001b[38;5;28;01mwith\u001b[39;00m \u001b[43mPopen\u001b[49m\u001b[43m(\u001b[49m\u001b[38;5;241;43m*\u001b[39;49m\u001b[43mpopenargs\u001b[49m\u001b[43m,\u001b[49m\u001b[43m \u001b[49m\u001b[38;5;241;43m*\u001b[39;49m\u001b[38;5;241;43m*\u001b[39;49m\u001b[43mkwargs\u001b[49m\u001b[43m)\u001b[49m \u001b[38;5;28;01mas\u001b[39;00m process:\n\u001b[1;32m    506\u001b[0m     \u001b[38;5;28;01mtry\u001b[39;00m:\n\u001b[1;32m    507\u001b[0m         stdout, stderr \u001b[38;5;241m=\u001b[39m process\u001b[38;5;241m.\u001b[39mcommunicate(\u001b[38;5;28minput\u001b[39m, timeout\u001b[38;5;241m=\u001b[39mtimeout)\n",
      "File \u001b[0;32m~/miniconda3/envs/tf/lib/python3.9/subprocess.py:951\u001b[0m, in \u001b[0;36mPopen.__init__\u001b[0;34m(self, args, bufsize, executable, stdin, stdout, stderr, preexec_fn, close_fds, shell, cwd, env, universal_newlines, startupinfo, creationflags, restore_signals, start_new_session, pass_fds, user, group, extra_groups, encoding, errors, text, umask)\u001b[0m\n\u001b[1;32m    947\u001b[0m         \u001b[38;5;28;01mif\u001b[39;00m \u001b[38;5;28mself\u001b[39m\u001b[38;5;241m.\u001b[39mtext_mode:\n\u001b[1;32m    948\u001b[0m             \u001b[38;5;28mself\u001b[39m\u001b[38;5;241m.\u001b[39mstderr \u001b[38;5;241m=\u001b[39m io\u001b[38;5;241m.\u001b[39mTextIOWrapper(\u001b[38;5;28mself\u001b[39m\u001b[38;5;241m.\u001b[39mstderr,\n\u001b[1;32m    949\u001b[0m                     encoding\u001b[38;5;241m=\u001b[39mencoding, errors\u001b[38;5;241m=\u001b[39merrors)\n\u001b[0;32m--> 951\u001b[0m     \u001b[38;5;28;43mself\u001b[39;49m\u001b[38;5;241;43m.\u001b[39;49m\u001b[43m_execute_child\u001b[49m\u001b[43m(\u001b[49m\u001b[43margs\u001b[49m\u001b[43m,\u001b[49m\u001b[43m \u001b[49m\u001b[43mexecutable\u001b[49m\u001b[43m,\u001b[49m\u001b[43m \u001b[49m\u001b[43mpreexec_fn\u001b[49m\u001b[43m,\u001b[49m\u001b[43m \u001b[49m\u001b[43mclose_fds\u001b[49m\u001b[43m,\u001b[49m\n\u001b[1;32m    952\u001b[0m \u001b[43m                        \u001b[49m\u001b[43mpass_fds\u001b[49m\u001b[43m,\u001b[49m\u001b[43m \u001b[49m\u001b[43mcwd\u001b[49m\u001b[43m,\u001b[49m\u001b[43m \u001b[49m\u001b[43menv\u001b[49m\u001b[43m,\u001b[49m\n\u001b[1;32m    953\u001b[0m \u001b[43m                        \u001b[49m\u001b[43mstartupinfo\u001b[49m\u001b[43m,\u001b[49m\u001b[43m \u001b[49m\u001b[43mcreationflags\u001b[49m\u001b[43m,\u001b[49m\u001b[43m \u001b[49m\u001b[43mshell\u001b[49m\u001b[43m,\u001b[49m\n\u001b[1;32m    954\u001b[0m \u001b[43m                        \u001b[49m\u001b[43mp2cread\u001b[49m\u001b[43m,\u001b[49m\u001b[43m \u001b[49m\u001b[43mp2cwrite\u001b[49m\u001b[43m,\u001b[49m\n\u001b[1;32m    955\u001b[0m \u001b[43m                        \u001b[49m\u001b[43mc2pread\u001b[49m\u001b[43m,\u001b[49m\u001b[43m \u001b[49m\u001b[43mc2pwrite\u001b[49m\u001b[43m,\u001b[49m\n\u001b[1;32m    956\u001b[0m \u001b[43m                        \u001b[49m\u001b[43merrread\u001b[49m\u001b[43m,\u001b[49m\u001b[43m \u001b[49m\u001b[43merrwrite\u001b[49m\u001b[43m,\u001b[49m\n\u001b[1;32m    957\u001b[0m \u001b[43m                        \u001b[49m\u001b[43mrestore_signals\u001b[49m\u001b[43m,\u001b[49m\n\u001b[1;32m    958\u001b[0m \u001b[43m                        \u001b[49m\u001b[43mgid\u001b[49m\u001b[43m,\u001b[49m\u001b[43m \u001b[49m\u001b[43mgids\u001b[49m\u001b[43m,\u001b[49m\u001b[43m \u001b[49m\u001b[43muid\u001b[49m\u001b[43m,\u001b[49m\u001b[43m \u001b[49m\u001b[43mumask\u001b[49m\u001b[43m,\u001b[49m\n\u001b[1;32m    959\u001b[0m \u001b[43m                        \u001b[49m\u001b[43mstart_new_session\u001b[49m\u001b[43m)\u001b[49m\n\u001b[1;32m    960\u001b[0m \u001b[38;5;28;01mexcept\u001b[39;00m:\n\u001b[1;32m    961\u001b[0m     \u001b[38;5;66;03m# Cleanup if the child failed starting.\u001b[39;00m\n\u001b[1;32m    962\u001b[0m     \u001b[38;5;28;01mfor\u001b[39;00m f \u001b[38;5;129;01min\u001b[39;00m \u001b[38;5;28mfilter\u001b[39m(\u001b[38;5;28;01mNone\u001b[39;00m, (\u001b[38;5;28mself\u001b[39m\u001b[38;5;241m.\u001b[39mstdin, \u001b[38;5;28mself\u001b[39m\u001b[38;5;241m.\u001b[39mstdout, \u001b[38;5;28mself\u001b[39m\u001b[38;5;241m.\u001b[39mstderr)):\n",
      "File \u001b[0;32m~/miniconda3/envs/tf/lib/python3.9/subprocess.py:1837\u001b[0m, in \u001b[0;36mPopen._execute_child\u001b[0;34m(self, args, executable, preexec_fn, close_fds, pass_fds, cwd, env, startupinfo, creationflags, shell, p2cread, p2cwrite, c2pread, c2pwrite, errread, errwrite, restore_signals, gid, gids, uid, umask, start_new_session)\u001b[0m\n\u001b[1;32m   1835\u001b[0m     \u001b[38;5;28;01mif\u001b[39;00m errno_num \u001b[38;5;241m!=\u001b[39m \u001b[38;5;241m0\u001b[39m:\n\u001b[1;32m   1836\u001b[0m         err_msg \u001b[38;5;241m=\u001b[39m os\u001b[38;5;241m.\u001b[39mstrerror(errno_num)\n\u001b[0;32m-> 1837\u001b[0m     \u001b[38;5;28;01mraise\u001b[39;00m child_exception_type(errno_num, err_msg, err_filename)\n\u001b[1;32m   1838\u001b[0m \u001b[38;5;28;01mraise\u001b[39;00m child_exception_type(err_msg)\n",
      "\u001b[0;31mFileNotFoundError\u001b[0m: [Errno 2] No such file or directory: 'pwd && source ./generated/gen_bins.sh'"
     ]
    }
   ],
   "source": [
    "# Set the name of the experiment\n",
    "if name_widget.value == \"\":\n",
    "    name = f\"run_{now}\"\n",
    "else:\n",
    "    name = f\"{name_widget.value}_{now}\"\n",
    "\n",
    "# Display configurations\n",
    "print(\"-----------------------------------------------------------\")\n",
    "print(\"-- SECDA-TFLite Benchmark Suite --\")\n",
    "print(\"-----------------------------------------------------------\")\n",
    "print(\"Configurations\")\n",
    "print(\"--------------\")\n",
    "print(f\"Board: {board}\")\n",
    "print(f\"Board User: {board_user}\")\n",
    "print(f\"Board Hostname: {board_hostname}\")\n",
    "print(f\"Board Benchmark Dir: {bench_dir}\")\n",
    "print(f\"Skip Bench: {skip_bench_widget.value}\")\n",
    "print(f\"Bin Gen: {bin_gen_widget.value}\")\n",
    "print(f\"Skip Inf Diff: {skip_inf_diff_widget.value}\")\n",
    "print(f\"Collect Power: {collect_power_widget.value}\")\n",
    "print(f\"Test Run: {test_run_widget.value}\")\n",
    "print(f\"Name: {name}\")\n",
    "print(\"-----------------------------------------------------------\")\n",
    "\n",
    "# Initialize SECDA-TFLite Benchmark Suite\n",
    "print(\"-----------------------------------------------------------\")\n",
    "print(\"Initializing SECDA-TFLite Benchmark Suite\")\n",
    "print(\"-----------------------------------------------------------\")\n",
    "if not skip_bench_widget.value:\n",
    "    print(\"Clearing cache\")\n",
    "    subprocess.run(\"rm -rf ./tmp\", shell=True)\n",
    "\n",
    "if init_widget.value:\n",
    "    create_dir()\n",
    "print(\"-----------------------------------------------------------\")\n",
    "\n",
    "# Generate binaries and experiment configurations\n",
    "print(\"-----------------------------------------------------------\")\n",
    "print(\"Configuring Benchmark\")\n",
    "print(\"-----------------------------------------------------------\")\n",
    "subprocess.run(f\"python3 scripts/configure_benchmark.py -e 1 -b {int(bin_gen_widget.value)}\", shell=True)\n",
    "\n",
    "if bin_gen_widget.value:\n",
    "    print(\"-----------------------------------------------------------\")\n",
    "    print(\"Generating Binaries\")\n",
    "    subprocess.run(\"pwd && source ./generated/gen_bins.sh\", shell=True)\n",
    "    print(\"-----------------------------------------------------------\")\n",
    "\n",
    "# subprocess.run(\"source ./generated/configs.sh\", shell=True)\n",
    "# length = len(os.environ.get('hw_array', '').split())\n",
    "\n",
    "# subprocess.run(f\"source {conda_path}/activate tf\", shell=True)\n",
    "\n",
    "# if not skip_bench_widget.value:\n",
    "#     print(\"-----------------------------------------------------------\")\n",
    "#     print(\"Transferring Experiment Configurations to Target Device\")\n",
    "#     subprocess.run(f\"rsync -q -r -avz -e 'ssh -p {board_port}' ./generated/configs.sh {board_user}@{board_hostname}:{bench_dir}/\", shell=True)\n",
    "#     subprocess.run(f\"rsync -q -r -avz -e 'ssh -p {board_port}' ./generated/run_collect.sh {board_user}@{board_hostname}:{bench_dir}/\", shell=True)\n",
    "#     subprocess.run(f\"ssh -o LogLevel=QUIET -t -p {board_port} {board_user}@{board_hostname} 'cd {bench_dir}/ && chmod +x ./*.sh'\", shell=True)\n",
    "\n",
    "#     if collect_power_widget.value:\n",
    "#         print(\"-----------------------------------------------------------\")\n",
    "#         print(\"Initializing Power Capture\")\n",
    "#         subprocess.Popen(f\"python3 scripts/record_power.py {name}\", shell=True)\n",
    "#         with open('/tmp/record_power.py.pid', 'w') as pid_file:\n",
    "#             pid_file.write(str(os.getpid()))\n",
    "#         print(\"-----------------------------------------------------------\")\n",
    "\n",
    "#     print(\"-----------------------------------------------------------\")\n",
    "#     print(\"Running Experiments\")\n",
    "#     print(\"-----------------------------------------------------------\")\n",
    "#     subprocess.run(f\"ssh -o LogLevel=QUIET -t -p {board_port} {board_user}@{board_hostname} 'cd {bench_dir}/ && ./run_collect.sh {int(process_on_fpga)} {int(skip_inf_diff_widget.value)} {int(collect_power_widget.value)} {int(test_run_widget.value)}'\", shell=True)\n",
    "\n",
    "#     if not test_run_widget.value:\n",
    "#         print(\"Transferring Results to Host\")\n",
    "#         subprocess.run(f\"rsync --mkpath -q -r -av -e 'ssh -p {board_port}' {board_user}@{board_hostname}:{bench_dir}/tmp ./\", shell=True)\n",
    "#         subprocess.run(f\"rsync --mkpath -q -r -av -e 'ssh -p {board_port}' {board_user}@{board_hostname}:{bench_dir}/tmp ./tmp/{name}/\", shell=True)\n",
    "#     print(\"-----------------------------------------------------------\")\n",
    "\n",
    "#     if collect_power_widget.value:\n",
    "#         if os.path.exists('/tmp/record_power.py.pid'):\n",
    "#             with open('/tmp/record_power.py.pid') as pid_file:\n",
    "#                 os.kill(int(pid_file.read()), signal.SIGTERM)\n",
    "#             print(\"-----------------------------------------------------------\")\n",
    "#             print(\"Power Capture Done\")\n",
    "#             print(\"-----------------------------------------------------------\")\n",
    "#             print(\"Processing Power Data\")\n",
    "#             print(\"-----------------------------------------------------------\")\n",
    "#             subprocess.run(f\"python3 scripts/process_power.py {name} {length}\", shell=True)\n",
    "#             print(\"Power Processing Done\")\n",
    "#             print(\"-----------------------------------------------------------\")\n",
    "#         else:\n",
    "#             print(\"/tmp/record_power.py.pid not found\")\n",
    "#         print(f\"Simple csv: ./files/{name}_clean.csv\")\n",
    "#         print(\"-----------------------------------------------------------\")\n",
    "\n",
    "# if not test_run_widget.value:\n",
    "#     print(\"-----------------------------------------------------------\")\n",
    "#     print(\"Post Processing\")\n",
    "#     prev_failed = 0\n",
    "#     prev_hw = \"\"\n",
    "#     length = len(os.environ.get('hw_array', '').split())\n",
    "#     for i in range(length):\n",
    "#         index = i + 1\n",
    "#         HW = os.environ.get(f'hw_array[{i}]')\n",
    "#         MODEL = os.environ.get(f'model_array[{i}]')\n",
    "#         THREAD = os.environ.get(f'thread_array[{i}]')\n",
    "#         NUM_RUN = os.environ.get(f'num_run_array[{i}]')\n",
    "#         VERSION = os.environ.get(f'version_array[{i}]')\n",
    "#         DEL_VERSION = os.environ.get(f'del_version_array[{i}]')\n",
    "#         DEL = os.environ.get(f'del_array[{i}]')\n",
    "#         prev_failed = 0\n",
    "#         prev_hw = HW\n",
    "#         runname = f\"{HW}_{VERSION}_{DEL}_{DEL_VERSION}_{MODEL}_{THREAD}_{NUM_RUN}\"\n",
    "#         if i % 1 == 0:\n",
    "#             print(\"========================================================================\")\n",
    "#             print(f\"{runname} {index}/{length}\")\n",
    "#             print(\"========================================================================\")\n",
    "\n",
    "#         valid = 1\n",
    "#         if HW != \"CPU\" and not skip_inf_diff_widget.value:\n",
    "#             if not os.path.exists(f'tmp/{runname}_id.txt'):\n",
    "#                 valid = 0\n",
    "#                 print(f\"Correct Check File Missing for: {runname}\")\n",
    "#             else:\n",
    "#                 subprocess.run(f\"python3 scripts/fpga_scripts/check_valid.py tmp/{runname}_id.txt\", shell=True)\n",
    "#                 if subprocess.returncode != 0:\n",
    "#                     valid = 0\n",
    "#                     print(f\"Correctness Check Failed {runname}\")\n",
    "\n",
    "#         subprocess.run(f\"python3 scripts/process_run.py {MODEL} {THREAD} {NUM_RUN} {HW} {VERSION} {DEL} {DEL_VERSION} {valid} {name}\", shell=True)\n",
    "#         if subprocess.returncode != 0:\n",
    "#             prev_failed = 1\n",
    "#             print(\"Process Run Failed\")\n",
    "#             continue\n",
    "\n",
    "#     subprocess.run(f\"python3 scripts/process_all_runs.py {name}\", shell=True)\n",
    "#     print(\"-----------------------------------------------------------\")\n",
    "#     print(\"Post Processing Done\")\n",
    "#     print(\"-----------------------------------------------------------\")\n",
    "\n",
    "# print(\"-----------------------------------------------------------\")\n",
    "# print(\"Exiting SECDA-TFLite Benchmark Suite\")\n",
    "# print(\"-----------------------------------------------------------\")"
   ]
  },
  {
   "cell_type": "code",
   "execution_count": null,
   "metadata": {},
   "outputs": [],
   "source": []
  }
 ],
 "metadata": {
  "kernelspec": {
   "display_name": "tf",
   "language": "python",
   "name": "python3"
  },
  "language_info": {
   "codemirror_mode": {
    "name": "ipython",
    "version": 3
   },
   "file_extension": ".py",
   "mimetype": "text/x-python",
   "name": "python",
   "nbconvert_exporter": "python",
   "pygments_lexer": "ipython3",
   "version": "3.9.19"
  }
 },
 "nbformat": 4,
 "nbformat_minor": 2
}
