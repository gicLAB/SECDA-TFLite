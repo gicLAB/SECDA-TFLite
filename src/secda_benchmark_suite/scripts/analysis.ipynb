{
 "cells": [
  {
   "cell_type": "code",
   "execution_count": 1,
   "metadata": {},
   "outputs": [],
   "source": [
    "# load csv  as panda df and sort by column\n",
    "import pandas as pd\n",
    "import sys\n",
    "import math\n",
    "from helper import *\n",
    "\n",
    "def load_csv(file):\n",
    "    df = pd.read_csv(file)\n",
    "    df = df.sort_values(by=[\"acc_version\", \"hardware\", \"model\", \"thread\"])\n",
    "    df = df.sort_values(by=[\"thread\", \"model\", \"acc_version\", \"hardware\"])\n",
    "    df.fillna(0, inplace=True)\n",
    "    valid_loc = df.columns.get_loc(\"valid\")\n",
    "    for i in range(valid_loc, len(df.columns)):\n",
    "        df.iloc[:, i] = df.iloc[:, i].astype(int)\n",
    "    df = df.drop(df.columns[[0]], axis=1)\n",
    "    df = df.drop(columns=[\"del\", \"del_version\"])\n",
    "    return df\n",
    "\n",
    "\n",
    "def combine(df, df2):\n",
    "    df2 = df2[df.columns]\n",
    "    df = pd.concat([df, df2], ignore_index=True)\n",
    "    return df\n",
    "\n",
    "\n",
    "def merge_rows(df):\n",
    "    # combine acc_version, hardware into one col\n",
    "    df[\"acc_version\"] = df[\"acc_version\"].astype(str)\n",
    "    df[\"hardware\"] = df[\"hardware\"].astype(str)\n",
    "    df[\"acc_version_hardware\"] = df[\"acc_version\"] + \"_\" + df[\"hardware\"]\n",
    "    # get unique acc_version_hardware\n",
    "    acc_version_hardware = df[\"acc_version_hardware\"].unique()\n",
    "    # get unique model\n",
    "    model = df[\"model\"].unique()\n",
    "\n",
    "    # create new df with model thread and column for each acc_version_hardware\n",
    "    df2 = pd.DataFrame(columns=[\"model\", \"thread\"] + list(acc_version_hardware))\n",
    "\n",
    "    # for each model and thread, find the total_latency for each acc_version_hardware\n",
    "    for m in model:\n",
    "        for t in [1, 2]:\n",
    "            # get the rows with the same model and thread\n",
    "            df3 = df.loc[(df[\"model\"] == m) & (df[\"thread\"] == t)]\n",
    "            # create a row for the model and thread\n",
    "            df2 = pd.concat(\n",
    "                [df2, pd.DataFrame([[m, t]], columns=[\"model\", \"thread\"])],\n",
    "                ignore_index=True,\n",
    "            )\n",
    "            # get the total_latency for each acc_version_hardware\n",
    "            for a in acc_version_hardware:\n",
    "                # get the rows with the same acc_version_hardware\n",
    "                df4 = df3.loc[df3[\"acc_version_hardware\"] == a]\n",
    "                # get the sum of the total_latency\n",
    "                total_latency = df4[\"total_latency\"].sum()\n",
    "                # add the total_latency to the df2 acc_version_hardware column\n",
    "                df2.loc[(df2[\"model\"] == m) & (df2[\"thread\"] == t), a] = total_latency\n",
    "\n",
    "    # sort by CPU\n",
    "    df2 = df2.sort_values(by=[\"1_0_CPU\", \"model\", \"thread\"])\n",
    "    df2 = custom_tconv_cols(df2)\n",
    "    # #save to csv\n",
    "    df2.to_csv(\"tmp/2.csv\", index=False)\n",
    "\n",
    "\n",
    "pd.set_option(\"display.precision\", 0)\n",
    "\n",
    "# load csv\n",
    "# df = load_csv(\"../results/latest.csv\")\n",
    "# df = load_csv(\"../results/mm2imv2.csv\")\n",
    "# latest = load_csv(\"../results/latest.csv\")\n",
    "\n",
    "# tconv_2 = load_csv(\"../saved_results/tconv_2.csv\")\n",
    "# mm2imv2_1 = load_csv(\"../saved_results/mm2imv2_1_post_threading.csv\")\n",
    "# df3 = combine(mm2imv2_1, tconv_2)\n",
    "# df3.to_csv(\"tmp/1.csv\", index=False)\n",
    "# merge_rows(df3)\n",
    "\n",
    "\n",
    "# create new df which combines the same model, with new col for each thread's total_latency\n",
    "# df = load_csv(\"../results/latest.csv\")\n",
    "# merge_rows(df)"
   ]
  },
  {
   "cell_type": "code",
   "execution_count": 3,
   "metadata": {},
   "outputs": [
    {
     "name": "stderr",
     "output_type": "stream",
     "text": [
      "/tmp/ipykernel_496091/3015465280.py:14: DeprecationWarning: In a future version, `df.iloc[:, i] = newvals` will attempt to set the values inplace instead of always setting a new array. To retain the old behavior, use either `df[df.columns[i]] = newvals` or, if columns are non-unique, `df.isetitem(i, newvals)`\n",
      "  df.iloc[:, i] = df.iloc[:, i].astype(int)\n"
     ]
    }
   ],
   "source": [
    "# create new df which combines the same model, with new col for each thread's total_latency\n",
    "df = load_csv(\"../results/latest.csv\")\n",
    "merge_rows(df)"
   ]
  },
  {
   "cell_type": "code",
   "execution_count": null,
   "metadata": {},
   "outputs": [],
   "source": []
  }
 ],
 "metadata": {
  "kernelspec": {
   "display_name": "Python 3",
   "language": "python",
   "name": "python3"
  },
  "language_info": {
   "codemirror_mode": {
    "name": "ipython",
    "version": 3
   },
   "file_extension": ".py",
   "mimetype": "text/x-python",
   "name": "python",
   "nbconvert_exporter": "python",
   "pygments_lexer": "ipython3",
   "version": "3.10.12"
  }
 },
 "nbformat": 4,
 "nbformat_minor": 2
}
