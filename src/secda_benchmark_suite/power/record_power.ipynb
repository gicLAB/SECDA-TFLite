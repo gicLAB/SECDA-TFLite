{
 "cells": [
  {
   "cell_type": "markdown",
   "metadata": {},
   "source": [
    "# Record entire power runs\n",
    "Goal is to screen cap and also merge the webcam feed looking at power display\n",
    "\n",
    "WHEN RECORDING: fill the terminal to ensure print appear in the right place \n",
    "\n",
    "WHEN RECORDING: put the terminal on the bottom right corner of the vertical screen"
   ]
  },
  {
   "cell_type": "code",
   "execution_count": 1,
   "metadata": {},
   "outputs": [
    {
     "name": "stdout",
     "output_type": "stream",
     "text": [
      "(82, 298, 350, 80)\n"
     ]
    }
   ],
   "source": [
    "import cv2\n",
    "import numpy as np\n",
    "from mss import mss\n",
    "from os import listdir\n",
    "from os.path import isfile, join\n",
    "\n",
    "\n",
    "def fix(screen):\n",
    "    screen = screen.swapaxes(0, 2)\n",
    "    screen = screen[:][:][:3]\n",
    "    screen = screen.swapaxes(0, 2)\n",
    "    return screen\n",
    "\n",
    "\n",
    "# write code to create new image each add two images together increasing the size of the merged image\n",
    "def merge(screen, i2, x_offset, y_offset):\n",
    "    screen[y_offset : y_offset + i2.shape[0], x_offset : x_offset + i2.shape[1]] = i2\n",
    "    return screen\n",
    "\n",
    "\n",
    "# Output file\n",
    "name = \"test\"  # set name\n",
    "mypath = \"./files/\"\n",
    "onlyfiles = [join(mypath, f) for f in listdir(mypath) if isfile(join(mypath, f))]\n",
    "outname = mypath + f\"{name}.mp4\"\n",
    "\n",
    "fourcc = cv2.VideoWriter_fourcc(*\"mp4v\")\n",
    "out = cv2.VideoWriter(outname, fourcc, 20.0, (1280, 960))\n",
    "\n",
    "# Capture from camera and screen\n",
    "cap = cv2.VideoCapture(-1)\n",
    "sct = mss()\n",
    "bounding_box = {\"top\": 2000, \"left\": 0, \"width\": 1920, \"height\": 1740}\n",
    "if not cap.isOpened():\n",
    "    print(\"Cannot open camera\")\n",
    "    exit()\n",
    "\n",
    "\n",
    "px, py, pxs, pys = (82, 298, 350, 80)\n",
    "\n",
    "while True:\n",
    "    # Screen Capture\n",
    "    screen = np.array(sct.grab(bounding_box))\n",
    "    scale_percent = 50  # percent of original size\n",
    "    width = int(screen.shape[1] * scale_percent / 100)\n",
    "    height = int(screen.shape[0] * scale_percent / 100)\n",
    "    dim = (width, height)\n",
    "    screen = cv2.resize(screen, dim, interpolation=cv2.INTER_AREA)\n",
    "    screen = cv2.cvtColor(screen, cv2.COLOR_BGR2RGB)\n",
    "    screen_S = screen.shape\n",
    "    screen = np.concatenate(\n",
    "        (screen, np.zeros((screen.shape[0], 200, 3), dtype=np.uint8)), axis=1\n",
    "    )\n",
    "\n",
    "    # Camera Capture\n",
    "    ret, frame = cap.read()\n",
    "    frame = cv2.rotate(frame, cv2.ROTATE_90_CLOCKWISE)\n",
    "\n",
    "    key = cv2.waitKey(1)\n",
    "    if key == ord(\"w\"):\n",
    "        py -= 1\n",
    "    if key == ord(\"s\"):\n",
    "        py += 1\n",
    "\n",
    "    if key== ord(\"a\"):\n",
    "        px -= 1\n",
    "    if key == ord(\"d\"):\n",
    "        px += 1\n",
    "    \n",
    "\n",
    "    frame = frame[py : py + pys, px : px + pxs, :3]  # // adjust to focus on mWH\n",
    "    # rescale down\n",
    "    # frame = cv2.resize(frame, (int(pxs/2), int(pys/2)), interpolation = cv2.INTER_AREA)\n",
    "\n",
    "    scale_percent = 200  # percent of original size\n",
    "    width = int(frame.shape[1] * scale_percent / 100)\n",
    "    height = int(frame.shape[0] * scale_percent / 100)\n",
    "    dim = (width, height)\n",
    "    # frame = cv2.resize(frame, dim, interpolation = cv2.INTER_AREA)\n",
    "    frame = cv2.cvtColor(frame, cv2.COLOR_BGR2RGB)\n",
    "\n",
    "    # Merge Screen and Camera\n",
    "    frame = merge(screen, frame, screen_S[0] - 60, 20)\n",
    "\n",
    "    # Write the frame\n",
    "    frame = cv2.resize(frame, (1280, 960))\n",
    "    out.write(frame)\n",
    "\n",
    "    # Display the resulting frame\n",
    "    cv2.imshow(\"frame\", frame)\n",
    "    if key== ord(\"q\"):\n",
    "        break\n",
    "\n",
    "print( f\"({px}, {py}, {pxs}, {pys})\")\n",
    "# When everything done, release the capture\n",
    "cap.release()\n",
    "out.release()\n",
    "cv2.destroyAllWindows()"
   ]
  },
  {
   "cell_type": "code",
   "execution_count": null,
   "metadata": {},
   "outputs": [],
   "source": []
  }
 ],
 "metadata": {
  "kernelspec": {
   "display_name": "Python 3.7.4 64-bit",
   "language": "python",
   "name": "python3"
  },
  "language_info": {
   "codemirror_mode": {
    "name": "ipython",
    "version": 3
   },
   "file_extension": ".py",
   "mimetype": "text/x-python",
   "name": "python",
   "nbconvert_exporter": "python",
   "pygments_lexer": "ipython3",
   "version": "3.9.19"
  },
  "vscode": {
   "interpreter": {
    "hash": "c596bca66dbca667a9bc1cd1a7a666ccffaec124030f0c74776eebfa2dc3efbf"
   }
  }
 },
 "nbformat": 4,
 "nbformat_minor": 2
}
